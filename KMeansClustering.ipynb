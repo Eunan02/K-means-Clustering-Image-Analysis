{
  "nbformat": 4,
  "nbformat_minor": 0,
  "metadata": {
    "colab": {
      "provenance": []
    },
    "kernelspec": {
      "name": "python3",
      "display_name": "Python 3"
    },
    "language_info": {
      "name": "python"
    }
  },
  "cells": [
    {
      "cell_type": "code",
      "execution_count": 1,
      "metadata": {
        "id": "w-aLnjsjafxc"
      },
      "outputs": [],
      "source": [
        "import sys\n",
        "import sklearn\n",
        "import matplotlib\n",
        "import numpy as np"
      ]
    },
    {
      "cell_type": "code",
      "source": [
        "from keras.datasets import mnist\n",
        "\n",
        "(x_train,y_train), (x_test,y_test) = mnist.load_data();"
      ],
      "metadata": {
        "colab": {
          "base_uri": "https://localhost:8080/"
        },
        "id": "tDCQAPP412NR",
        "outputId": "6b58cf1c-1069-4ce3-b3d6-e52ce776c7d9"
      },
      "execution_count": 3,
      "outputs": [
        {
          "output_type": "stream",
          "name": "stdout",
          "text": [
            "Downloading data from https://storage.googleapis.com/tensorflow/tf-keras-datasets/mnist.npz\n",
            "11490434/11490434 [==============================] - 0s 0us/step\n"
          ]
        }
      ]
    },
    {
      "cell_type": "code",
      "source": [
        "print('Training Data:{}'.format(x_train.shape))\n",
        "print('Training Labels {}'.format(y_train.shape))\n"
      ],
      "metadata": {
        "colab": {
          "base_uri": "https://localhost:8080/"
        },
        "id": "5u2QvqNw2gpE",
        "outputId": "0ae99255-3ca2-4c66-b014-2816a3d788d3"
      },
      "execution_count": 4,
      "outputs": [
        {
          "output_type": "stream",
          "name": "stdout",
          "text": [
            "Training Data:(60000, 28, 28)\n",
            "Training Labels (60000,)\n"
          ]
        }
      ]
    },
    {
      "cell_type": "code",
      "source": [
        "print(\"Testing Data:{}\".format(x_test.shape))\n",
        "print('Testing Labels:{}'.format(y_test.shape))"
      ],
      "metadata": {
        "colab": {
          "base_uri": "https://localhost:8080/"
        },
        "id": "IeVAsGOY27sE",
        "outputId": "d7b16ce7-2af3-407d-9a8d-0ac2c58502da"
      },
      "execution_count": 5,
      "outputs": [
        {
          "output_type": "stream",
          "name": "stdout",
          "text": [
            "Testing Data:(10000, 28, 28)\n",
            "Testing Labels:(10000,)\n"
          ]
        }
      ]
    },
    {
      "cell_type": "code",
      "source": [
        "import matplotlib.pyplot as plt\n",
        "\n",
        "\n",
        "%matplotlib inline"
      ],
      "metadata": {
        "id": "Tnu7zxns3KTw"
      },
      "execution_count": 7,
      "outputs": []
    },
    {
      "cell_type": "code",
      "source": [
        "fig, axs = plt.subplots(3,3,figsize=(12,12))\n",
        "\n",
        "plt.gray()\n",
        "\n",
        "for i, ax in enumerate(axs.flat):\n",
        "  ax.matshow(x_train[i])\n",
        "  ax.axis('off')\n",
        "  ax.set_title('Number {}'.format(y_train[i]))\n",
        "\n",
        "\n",
        "fig.show()"
      ],
      "metadata": {
        "colab": {
          "base_uri": "https://localhost:8080/",
          "height": 1000
        },
        "id": "gEjWGv_k6NS3",
        "outputId": "6d3f1efe-78a0-4f7d-9a82-412d434c6136"
      },
      "execution_count": 11,
      "outputs": [
        {
          "output_type": "display_data",
          "data": {
            "text/plain": [
              "<Figure size 1200x1200 with 9 Axes>"
            ],
            "image/png": "[encoded data removed]"
          },
          "metadata": {}
        }
      ]
    },
    {
      "cell_type": "code",
      "source": [
        "X= x_train.reshape(len(x_train),-1)\n",
        "Y=y_train\n",
        "\n",
        "X=X.astype(float) / 255.\n",
        "\n",
        "print(X.shape)\n",
        "print(X[0].shape)\n"
      ],
      "metadata": {
        "colab": {
          "base_uri": "https://localhost:8080/"
        },
        "id": "wxLwnQ_G9BaM",
        "outputId": "248de464-166b-443d-bb32-672ecd5912e0"
      },
      "execution_count": 16,
      "outputs": [
        {
          "output_type": "stream",
          "name": "stdout",
          "text": [
            "(60000, 784)\n",
            "(784,)\n"
          ]
        }
      ]
    },
    {
      "cell_type": "code",
      "source": [
        "print(X.shape)"
      ],
      "metadata": {
        "colab": {
          "base_uri": "https://localhost:8080/"
        },
        "id": "yL1aWhev-rje",
        "outputId": "9e0d2926-9fac-4dd7-85e9-84f991177d83"
      },
      "execution_count": 14,
      "outputs": [
        {
          "output_type": "stream",
          "name": "stdout",
          "text": [
            "(60000, 784)\n"
          ]
        }
      ]
    },
    {
      "cell_type": "code",
      "source": [
        "from sklearn.cluster import MiniBatchKMeans\n",
        "\n",
        "n_digits= len(np.unique(y_test))\n",
        "print(n_digits)\n",
        "\n",
        "kmeans= MiniBatchKMeans(n_clusters=n_digits)\n",
        "\n",
        "kmeans.fit(X)"
      ],
      "metadata": {
        "colab": {
          "base_uri": "https://localhost:8080/",
          "height": 130
        },
        "id": "s2e4MmWs-xvu",
        "outputId": "0c984ef4-0d5b-440e-d3e8-ac6bdc650229"
      },
      "execution_count": 17,
      "outputs": [
        {
          "output_type": "stream",
          "name": "stdout",
          "text": [
            "10\n"
          ]
        },
        {
          "output_type": "stream",
          "name": "stderr",
          "text": [
            "/usr/local/lib/python3.9/dist-packages/sklearn/cluster/_kmeans.py:870: FutureWarning: The default value of `n_init` will change from 3 to 'auto' in 1.4. Set the value of `n_init` explicitly to suppress the warning\n",
            "  warnings.warn(\n"
          ]
        },
        {
          "output_type": "execute_result",
          "data": {
            "text/plain": [
              "MiniBatchKMeans(n_clusters=10)"
            ],
            "text/html": [
              "<style>#sk-container-id-1 {color: black;background-color: white;}#sk-container-id-1 pre{padding: 0;}#sk-container-id-1 div.sk-toggleable {background-color: white;}#sk-container-id-1 label.sk-toggleable__label {cursor: pointer;display: block;width: 100%;margin-bottom: 0;padding: 0.3em;box-sizing: border-box;text-align: center;}#sk-container-id-1 label.sk-toggleable__label-arrow:before {content: \"▸\";float: left;margin-right: 0.25em;color: #696969;}#sk-container-id-1 label.sk-toggleable__label-arrow:hover:before {color: black;}#sk-container-id-1 div.sk-estimator:hover label.sk-toggleable__label-arrow:before {color: black;}#sk-container-id-1 div.sk-toggleable__content {max-height: 0;max-width: 0;overflow: hidden;text-align: left;background-color: #f0f8ff;}#sk-container-id-1 div.sk-toggleable__content pre {margin: 0.2em;color: black;border-radius: 0.25em;background-color: #f0f8ff;}#sk-container-id-1 input.sk-toggleable__control:checked~div.sk-toggleable__content {max-height: 200px;max-width: 100%;overflow: auto;}#sk-container-id-1 input.sk-toggleable__control:checked~label.sk-toggleable__label-arrow:before {content: \"▾\";}#sk-container-id-1 div.sk-estimator input.sk-toggleable__control:checked~label.sk-toggleable__label {background-color: #d4ebff;}#sk-container-id-1 div.sk-label input.sk-toggleable__control:checked~label.sk-toggleable__label {background-color: #d4ebff;}#sk-container-id-1 input.sk-hidden--visually {border: 0;clip: rect(1px 1px 1px 1px);clip: rect(1px, 1px, 1px, 1px);height: 1px;margin: -1px;overflow: hidden;padding: 0;position: absolute;width: 1px;}#sk-container-id-1 div.sk-estimator {font-family: monospace;background-color: #f0f8ff;border: 1px dotted black;border-radius: 0.25em;box-sizing: border-box;margin-bottom: 0.5em;}#sk-container-id-1 div.sk-estimator:hover {background-color: #d4ebff;}#sk-container-id-1 div.sk-parallel-item::after {content: \"\";width: 100%;border-bottom: 1px solid gray;flex-grow: 1;}#sk-container-id-1 div.sk-label:hover label.sk-toggleable__label {background-color: #d4ebff;}#sk-container-id-1 div.sk-serial::before {content: \"\";position: absolute;border-left: 1px solid gray;box-sizing: border-box;top: 0;bottom: 0;left: 50%;z-index: 0;}#sk-container-id-1 div.sk-serial {display: flex;flex-direction: column;align-items: center;background-color: white;padding-right: 0.2em;padding-left: 0.2em;position: relative;}#sk-container-id-1 div.sk-item {position: relative;z-index: 1;}#sk-container-id-1 div.sk-parallel {display: flex;align-items: stretch;justify-content: center;background-color: white;position: relative;}#sk-container-id-1 div.sk-item::before, #sk-container-id-1 div.sk-parallel-item::before {content: \"\";position: absolute;border-left: 1px solid gray;box-sizing: border-box;top: 0;bottom: 0;left: 50%;z-index: -1;}#sk-container-id-1 div.sk-parallel-item {display: flex;flex-direction: column;z-index: 1;position: relative;background-color: white;}#sk-container-id-1 div.sk-parallel-item:first-child::after {align-self: flex-end;width: 50%;}#sk-container-id-1 div.sk-parallel-item:last-child::after {align-self: flex-start;width: 50%;}#sk-container-id-1 div.sk-parallel-item:only-child::after {width: 0;}#sk-container-id-1 div.sk-dashed-wrapped {border: 1px dashed gray;margin: 0 0.4em 0.5em 0.4em;box-sizing: border-box;padding-bottom: 0.4em;background-color: white;}#sk-container-id-1 div.sk-label label {font-family: monospace;font-weight: bold;display: inline-block;line-height: 1.2em;}#sk-container-id-1 div.sk-label-container {text-align: center;}#sk-container-id-1 div.sk-container {/* jupyter's `normalize.less` sets `[hidden] { display: none; }` but bootstrap.min.css set `[hidden] { display: none !important; }` so we also need the `!important` here to be able to override the default hidden behavior on the sphinx rendered scikit-learn.org. See: https://github.com/scikit-learn/scikit-learn/issues/21755 */display: inline-block !important;position: relative;}#sk-container-id-1 div.sk-text-repr-fallback {display: none;}</style><div id=\"sk-container-id-1\" class=\"sk-top-container\"><div class=\"sk-text-repr-fallback\"><pre>MiniBatchKMeans(n_clusters=10)</pre><b>In a Jupyter environment, please rerun this cell to show the HTML representation or trust the notebook. <br />On GitHub, the HTML representation is unable to render, please try loading this page with nbviewer.org.</b></div><div class=\"sk-container\" hidden><div class=\"sk-item\"><div class=\"sk-estimator sk-toggleable\"><input class=\"sk-toggleable__control sk-hidden--visually\" id=\"sk-estimator-id-1\" type=\"checkbox\" checked><label for=\"sk-estimator-id-1\" class=\"sk-toggleable__label sk-toggleable__label-arrow\">MiniBatchKMeans</label><div class=\"sk-toggleable__content\"><pre>MiniBatchKMeans(n_clusters=10)</pre></div></div></div></div></div>"
            ]
          },
          "metadata": {},
          "execution_count": 17
        }
      ]
    },
    {
      "cell_type": "code",
      "source": [
        "kmeans.labels_[:20]"
      ],
      "metadata": {
        "colab": {
          "base_uri": "https://localhost:8080/"
        },
        "id": "ZmDoNLSSHv6t",
        "outputId": "0d9cba3c-c55a-4851-b5bb-9978df16532c"
      },
      "execution_count": 20,
      "outputs": [
        {
          "output_type": "execute_result",
          "data": {
            "text/plain": [
              "array([2, 5, 3, 1, 7, 9, 6, 2, 6, 7, 2, 1, 2, 8, 6, 7, 9, 7, 8, 7],\n",
              "      dtype=int32)"
            ]
          },
          "metadata": {},
          "execution_count": 20
        }
      ]
    },
    {
      "cell_type": "code",
      "source": [
        "def infer_cluster_labels(kmeans,actual_labels):\n",
        "  #Associates most probable label with each clluster in kmeans model\n",
        "  #Returns : Dictionary of Clusters assigned to each label\n",
        "\n",
        "  inferred_labels={}\n",
        "  for i in range(kmeans.n_clusters):\n",
        "    labels=[]\n",
        "    index = np.where(kmeans.labels_ == i)\n",
        "\n",
        "    labels.append(actual_labels[index])\n",
        "    if len(labels[0]) == 1:\n",
        "        counts=np.bincount(labels[0])\n",
        "    else:\n",
        "        counts = np.bincount(np.squeeze(labels))\n",
        "    \n",
        "    if np.argmax(counts) in inferred_labels:\n",
        "      inferred_labels[np.argmax(counts)].append(i)\n",
        "    else:\n",
        "        inferred_labels[np.argmax(counts)]=[i]\n",
        "   # print(labels)\n",
        "    #print('Cluster:{} , label: {}'.format(i,np.argmax(counts)))  \n",
        "  return inferred_labels\n",
        "\n",
        "\n",
        "def infer_data_labels(X_labels,cluster_labels):\n",
        "  predicted_labels=np.zeros(len(X_labels)).astype(np.uint8)\n",
        "\n",
        "  for i, cluster in enumerate(X_labels):\n",
        "    for key,value in cluster_labels.items():\n",
        "      if cluster in value:\n",
        "        predicted_labels[i]=key\n",
        "\n",
        "  return predicted_labels\n",
        "\n",
        "\n"
      ],
      "metadata": {
        "id": "AYbV0jBGH8-r"
      },
      "execution_count": 35,
      "outputs": []
    },
    {
      "cell_type": "code",
      "source": [
        "cluster_labels=infer_cluster_labels(kmeans,Y)\n",
        "X_clusters=kmeans.predict(X)\n",
        "predicted_labels=infer_data_labels(X_clusters,cluster_labels)\n",
        "\n",
        "print(predicted_labels[:20])\n",
        "print(Y[:20])"
      ],
      "metadata": {
        "colab": {
          "base_uri": "https://localhost:8080/"
        },
        "id": "sU1qAM1dOvsa",
        "outputId": "a054a62e-8066-4f64-df5b-26896359ff51"
      },
      "execution_count": 28,
      "outputs": [
        {
          "output_type": "stream",
          "name": "stdout",
          "text": [
            "[array([0, 0, 0, ..., 0, 0, 0], dtype=uint8)]\n",
            "Cluster:0 , label: 0\n",
            "[array([1, 5, 1, ..., 1, 1, 1], dtype=uint8)]\n",
            "Cluster:1 , label: 1\n",
            "[array([5, 3, 3, ..., 3, 3, 5], dtype=uint8)]\n",
            "Cluster:2 , label: 3\n",
            "[array([4, 4, 4, ..., 9, 9, 9], dtype=uint8)]\n",
            "Cluster:3 , label: 4\n",
            "[array([4, 2, 7, ..., 7, 7, 9], dtype=uint8)]\n",
            "Cluster:4 , label: 7\n",
            "[array([0, 0, 0, ..., 3, 6, 0], dtype=uint8)]\n",
            "Cluster:5 , label: 0\n",
            "[array([1, 1, 1, ..., 5, 5, 5], dtype=uint8)]\n",
            "Cluster:6 , label: 1\n",
            "[array([9, 4, 7, ..., 9, 8, 8], dtype=uint8)]\n",
            "Cluster:7 , label: 4\n",
            "[array([6, 6, 6, ..., 6, 6, 6], dtype=uint8)]\n",
            "Cluster:8 , label: 6\n",
            "[array([2, 2, 2, ..., 2, 2, 2], dtype=uint8)]\n",
            "Cluster:9 , label: 2\n",
            "[3 0 4 1 4 2 1 3 1 4 3 1 3 6 1 4 2 4 6 4]\n",
            "[5 0 4 1 9 2 1 3 1 4 3 5 3 6 1 7 2 8 6 9]\n"
          ]
        }
      ]
    },
    {
      "cell_type": "code",
      "source": [
        "from sklearn import metrics\n",
        "\n",
        "def calculate_metrics(estimator, data,labels):\n",
        "\n",
        "  print('Number Of Clusters:{}'.format(estimator.n_clusters))\n",
        "  print('Inerita:{}'.format(estimator.inertia_))\n",
        "  print(\"Homogeneity:{}\".format(metrics.homogeneity_score(labels,estimator.labels_)))"
      ],
      "metadata": {
        "id": "yGevTk1XPn0h"
      },
      "execution_count": 33,
      "outputs": []
    },
    {
      "cell_type": "code",
      "source": [
        "\n",
        "clusters=[10,16,36,64,144,256]\n",
        "\n",
        "\n",
        "for n_clusters in clusters:\n",
        "  estimator=MiniBatchKMeans(n_clusters=n_clusters)\n",
        "  estimator.fit(X)\n",
        "\n",
        "  calculate_metrics(estimator,X,Y)\n",
        "\n",
        "  cluster_labels=infer_cluster_labels(estimator,Y)\n",
        "  predicted_Y=infer_data_labels(estimator.labels_,cluster_labels)\n",
        "\n",
        "  print('Accuracy: {}\\n'.format(metrics.accuracy_score(Y,predicted_Y)))"
      ],
      "metadata": {
        "colab": {
          "base_uri": "https://localhost:8080/"
        },
        "id": "rHakKJzSTbmg",
        "outputId": "91c3f9f0-614c-4d7a-f091-727cdbac1b0b"
      },
      "execution_count": 36,
      "outputs": [
        {
          "output_type": "stream",
          "name": "stderr",
          "text": [
            "/usr/local/lib/python3.9/dist-packages/sklearn/cluster/_kmeans.py:870: FutureWarning: The default value of `n_init` will change from 3 to 'auto' in 1.4. Set the value of `n_init` explicitly to suppress the warning\n",
            "  warnings.warn(\n"
          ]
        },
        {
          "output_type": "stream",
          "name": "stdout",
          "text": [
            "Number Of Clusters:10\n",
            "Inerita:2383917.035127952\n",
            "Homogeneity:0.43495726551255676\n",
            "Accuracy: 0.5261\n",
            "\n"
          ]
        },
        {
          "output_type": "stream",
          "name": "stderr",
          "text": [
            "/usr/local/lib/python3.9/dist-packages/sklearn/cluster/_kmeans.py:870: FutureWarning: The default value of `n_init` will change from 3 to 'auto' in 1.4. Set the value of `n_init` explicitly to suppress the warning\n",
            "  warnings.warn(\n"
          ]
        },
        {
          "output_type": "stream",
          "name": "stdout",
          "text": [
            "Number Of Clusters:16\n",
            "Inerita:2204472.133391546\n",
            "Homogeneity:0.572481862629425\n",
            "Accuracy: 0.6534833333333333\n",
            "\n"
          ]
        },
        {
          "output_type": "stream",
          "name": "stderr",
          "text": [
            "/usr/local/lib/python3.9/dist-packages/sklearn/cluster/_kmeans.py:870: FutureWarning: The default value of `n_init` will change from 3 to 'auto' in 1.4. Set the value of `n_init` explicitly to suppress the warning\n",
            "  warnings.warn(\n"
          ]
        },
        {
          "output_type": "stream",
          "name": "stdout",
          "text": [
            "Number Of Clusters:36\n",
            "Inerita:1947966.159757414\n",
            "Homogeneity:0.6885108136960026\n",
            "Accuracy: 0.7706166666666666\n",
            "\n"
          ]
        },
        {
          "output_type": "stream",
          "name": "stderr",
          "text": [
            "/usr/local/lib/python3.9/dist-packages/sklearn/cluster/_kmeans.py:870: FutureWarning: The default value of `n_init` will change from 3 to 'auto' in 1.4. Set the value of `n_init` explicitly to suppress the warning\n",
            "  warnings.warn(\n"
          ]
        },
        {
          "output_type": "stream",
          "name": "stdout",
          "text": [
            "Number Of Clusters:64\n",
            "Inerita:1806874.1077108178\n",
            "Homogeneity:0.7323969113777358\n",
            "Accuracy: 0.7941166666666667\n",
            "\n"
          ]
        },
        {
          "output_type": "stream",
          "name": "stderr",
          "text": [
            "/usr/local/lib/python3.9/dist-packages/sklearn/cluster/_kmeans.py:870: FutureWarning: The default value of `n_init` will change from 3 to 'auto' in 1.4. Set the value of `n_init` explicitly to suppress the warning\n",
            "  warnings.warn(\n"
          ]
        },
        {
          "output_type": "stream",
          "name": "stdout",
          "text": [
            "Number Of Clusters:144\n",
            "Inerita:1622217.269582354\n",
            "Homogeneity:0.8123935155729879\n",
            "Accuracy: 0.8771333333333333\n",
            "\n"
          ]
        },
        {
          "output_type": "stream",
          "name": "stderr",
          "text": [
            "/usr/local/lib/python3.9/dist-packages/sklearn/cluster/_kmeans.py:870: FutureWarning: The default value of `n_init` will change from 3 to 'auto' in 1.4. Set the value of `n_init` explicitly to suppress the warning\n",
            "  warnings.warn(\n"
          ]
        },
        {
          "output_type": "stream",
          "name": "stdout",
          "text": [
            "Number Of Clusters:256\n",
            "Inerita:1501559.9199837544\n",
            "Homogeneity:0.8413454212512267\n",
            "Accuracy: 0.8954333333333333\n",
            "\n"
          ]
        }
      ]
    },
    {
      "cell_type": "code",
      "source": [
        "X_test=x_test.reshape(len(x_test),-1)\n",
        "\n",
        "X_test=X_test.astype(float)/ 255.\n",
        "\n",
        "kmeans=MiniBatchKMeans(n_clusters=256)\n",
        "kmeans.fit(X)\n",
        "cluster_labels=infer_cluster_labels(kmeans,Y)\n",
        "\n",
        "test_clusters=kmeans.predict(X_test)\n",
        "predicted_labels=infer_data_labels(test_clusters,cluster_labels)\n",
        "\n",
        "print(\"Testing Accuracy:{}\".format(metrics.accuracy_score(y_test,predicted_labels)))"
      ],
      "metadata": {
        "colab": {
          "base_uri": "https://localhost:8080/"
        },
        "id": "rwBjIwvPWyHI",
        "outputId": "5048ce9c-46cf-49b7-b9e1-d1805dd1de56"
      },
      "execution_count": 38,
      "outputs": [
        {
          "output_type": "stream",
          "name": "stderr",
          "text": [
            "/usr/local/lib/python3.9/dist-packages/sklearn/cluster/_kmeans.py:870: FutureWarning: The default value of `n_init` will change from 3 to 'auto' in 1.4. Set the value of `n_init` explicitly to suppress the warning\n",
            "  warnings.warn(\n"
          ]
        },
        {
          "output_type": "stream",
          "name": "stdout",
          "text": [
            "Testing Accuracy:0.9\n"
          ]
        }
      ]
    },
    {
      "cell_type": "code",
      "source": [
        "Kmeans=MiniBatchKMeans(n_clusters=28)\n",
        "kmeans.fit(X)\n",
        "\n",
        "centroids=kmeans.cluster_centers_\n",
        "\n",
        "images= centroids.reshape(28,28,28)\n",
        "\n",
        "images *= 255\n",
        "images = images.astype(np.uint8)\n",
        "\n",
        "cluster_labels=infer_cluster_labels(kmeans,Y)\n",
        "\n",
        "fig,axs = plt.subplot(6,6 ,figsize=(20,20))\n",
        "\n",
        "plt.gray()\n",
        "\n",
        "for i, ax in enumerate(axs.flat):\n",
        "  for key,value in cluster_labels.items():\n",
        "    if i in value:\n",
        "      ax.set_title('Inferred Label:{}'.format(key))\n",
        "\n",
        "  ax.matshow(images[i])\n",
        "  ax.axis('off')\n",
        "\n",
        "\n",
        "fig.show()\n",
        "\n"
      ],
      "metadata": {
        "colab": {
          "base_uri": "https://localhost:8080/",
          "height": 283
        },
        "id": "NYkl-SgwYZC7",
        "outputId": "5fade2f7-69c3-473b-8293-eb14d50ed615"
      },
      "execution_count": 45,
      "outputs": [
        {
          "output_type": "stream",
          "name": "stderr",
          "text": [
            "/usr/local/lib/python3.9/dist-packages/sklearn/cluster/_kmeans.py:870: FutureWarning: The default value of `n_init` will change from 3 to 'auto' in 1.4. Set the value of `n_init` explicitly to suppress the warning\n",
            "  warnings.warn(\n"
          ]
        },
        {
          "output_type": "error",
          "ename": "ValueError",
          "evalue": "ignored",
          "traceback": [
            "\u001b[0;31m---------------------------------------------------------------------------\u001b[0m",
            "\u001b[0;31mValueError\u001b[0m                                Traceback (most recent call last)",
            "\u001b[0;32m<ipython-input-45-e36b9d756113>\u001b[0m in \u001b[0;36m<cell line: 6>\u001b[0;34m()\u001b[0m\n\u001b[1;32m      4\u001b[0m \u001b[0mcentroids\u001b[0m\u001b[0;34m=\u001b[0m\u001b[0mkmeans\u001b[0m\u001b[0;34m.\u001b[0m\u001b[0mcluster_centers_\u001b[0m\u001b[0;34m\u001b[0m\u001b[0;34m\u001b[0m\u001b[0m\n\u001b[1;32m      5\u001b[0m \u001b[0;34m\u001b[0m\u001b[0m\n\u001b[0;32m----> 6\u001b[0;31m \u001b[0mimages\u001b[0m\u001b[0;34m=\u001b[0m \u001b[0mcentroids\u001b[0m\u001b[0;34m.\u001b[0m\u001b[0mreshape\u001b[0m\u001b[0;34m(\u001b[0m\u001b[0;36m28\u001b[0m\u001b[0;34m,\u001b[0m\u001b[0;36m28\u001b[0m\u001b[0;34m,\u001b[0m\u001b[0;36m28\u001b[0m\u001b[0;34m)\u001b[0m\u001b[0;34m\u001b[0m\u001b[0;34m\u001b[0m\u001b[0m\n\u001b[0m\u001b[1;32m      7\u001b[0m \u001b[0;34m\u001b[0m\u001b[0m\n\u001b[1;32m      8\u001b[0m \u001b[0mimages\u001b[0m \u001b[0;34m*=\u001b[0m \u001b[0;36m255\u001b[0m\u001b[0;34m\u001b[0m\u001b[0;34m\u001b[0m\u001b[0m\n",
            "\u001b[0;31mValueError\u001b[0m: cannot reshape array of size 200704 into shape (28,28,28)"
          ]
        }
      ]
    }
  ]
}